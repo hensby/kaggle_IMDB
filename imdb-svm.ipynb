{
 "cells": [
  {
   "cell_type": "code",
   "execution_count": 1,
   "metadata": {
    "_cell_guid": "b1076dfc-b9ad-4769-8c92-a6c4dae69d19",
    "_uuid": "8f2839f25d086af736a60e9eeb907d3b93b6e0e5"
   },
   "outputs": [
    {
     "name": "stdout",
     "output_type": "stream",
     "text": [
      "['IMDB Dataset.csv']\n"
     ]
    }
   ],
   "source": [
    "# This Python 3 environment comes with many helpful analytics libraries installed\n",
    "# It is defined by the kaggle/python docker image: https://github.com/kaggle/docker-python\n",
    "# For example, here's several helpful packages to load in \n",
    "\n",
    "import numpy as np # linear algebra\n",
    "import pandas as pd # data processing, CSV file I/O (e.g. pd.read_csv)\n",
    "import pickle\n",
    "# Input data files are available in the \"../input/\" directory.\n",
    "# For example, running this (by clicking run or pressing Shift+Enter) will list the files in the input directory\n",
    "\n",
    "import os\n",
    "print(os.listdir(\"../input\"))\n",
    "\n",
    "# Any results you write to the current directory are saved as output."
   ]
  },
  {
   "cell_type": "code",
   "execution_count": 2,
   "metadata": {},
   "outputs": [
    {
     "data": {
      "text/html": [
       "<div>\n",
       "<style scoped>\n",
       "    .dataframe tbody tr th:only-of-type {\n",
       "        vertical-align: middle;\n",
       "    }\n",
       "\n",
       "    .dataframe tbody tr th {\n",
       "        vertical-align: top;\n",
       "    }\n",
       "\n",
       "    .dataframe thead th {\n",
       "        text-align: right;\n",
       "    }\n",
       "</style>\n",
       "<table border=\"1\" class=\"dataframe\">\n",
       "  <thead>\n",
       "    <tr style=\"text-align: right;\">\n",
       "      <th></th>\n",
       "      <th>review</th>\n",
       "      <th>sentiment</th>\n",
       "    </tr>\n",
       "  </thead>\n",
       "  <tbody>\n",
       "    <tr>\n",
       "      <th>0</th>\n",
       "      <td>One of the other reviewers has mentioned that ...</td>\n",
       "      <td>positive</td>\n",
       "    </tr>\n",
       "    <tr>\n",
       "      <th>1</th>\n",
       "      <td>A wonderful little production. &lt;br /&gt;&lt;br /&gt;The...</td>\n",
       "      <td>positive</td>\n",
       "    </tr>\n",
       "    <tr>\n",
       "      <th>2</th>\n",
       "      <td>I thought this was a wonderful way to spend ti...</td>\n",
       "      <td>positive</td>\n",
       "    </tr>\n",
       "    <tr>\n",
       "      <th>3</th>\n",
       "      <td>Basically there's a family where a little boy ...</td>\n",
       "      <td>negative</td>\n",
       "    </tr>\n",
       "    <tr>\n",
       "      <th>4</th>\n",
       "      <td>Petter Mattei's \"Love in the Time of Money\" is...</td>\n",
       "      <td>positive</td>\n",
       "    </tr>\n",
       "  </tbody>\n",
       "</table>\n",
       "</div>"
      ],
      "text/plain": [
       "                                              review sentiment\n",
       "0  One of the other reviewers has mentioned that ...  positive\n",
       "1  A wonderful little production. <br /><br />The...  positive\n",
       "2  I thought this was a wonderful way to spend ti...  positive\n",
       "3  Basically there's a family where a little boy ...  negative\n",
       "4  Petter Mattei's \"Love in the Time of Money\" is...  positive"
      ]
     },
     "execution_count": 2,
     "metadata": {},
     "output_type": "execute_result"
    }
   ],
   "source": [
    "file_path = '../input/IMDB Dataset.csv'\n",
    "data = pd.read_csv(file_path)\n",
    "data.head()"
   ]
  },
  {
   "cell_type": "code",
   "execution_count": 3,
   "metadata": {},
   "outputs": [
    {
     "data": {
      "text/plain": [
       "0    positive\n",
       "1    positive\n",
       "2    positive\n",
       "3    negative\n",
       "4    positive\n",
       "Name: sentiment, dtype: object"
      ]
     },
     "execution_count": 3,
     "metadata": {},
     "output_type": "execute_result"
    }
   ],
   "source": [
    "y = data.sentiment\n",
    "y.head()"
   ]
  },
  {
   "cell_type": "code",
   "execution_count": 4,
   "metadata": {},
   "outputs": [
    {
     "data": {
      "text/plain": [
       "0    1\n",
       "1    1\n",
       "2    1\n",
       "3   -1\n",
       "4    1\n",
       "Name: sentiment, dtype: int64"
      ]
     },
     "execution_count": 4,
     "metadata": {},
     "output_type": "execute_result"
    }
   ],
   "source": [
    "label = {'positive':1, 'negative':-1}\n",
    "\n",
    "def preprocess_y(sentiment):\n",
    "    return label[sentiment]\n",
    "\n",
    "y = y.apply(preprocess_y)\n",
    "y.head()"
   ]
  },
  {
   "cell_type": "code",
   "execution_count": 5,
   "metadata": {},
   "outputs": [
    {
     "data": {
      "text/plain": [
       "0    One of the other reviewers has mentioned that ...\n",
       "1    A wonderful little production. <br /><br />The...\n",
       "2    I thought this was a wonderful way to spend ti...\n",
       "3    Basically there's a family where a little boy ...\n",
       "4    Petter Mattei's \"Love in the Time of Money\" is...\n",
       "Name: review, dtype: object"
      ]
     },
     "execution_count": 5,
     "metadata": {},
     "output_type": "execute_result"
    }
   ],
   "source": [
    "X = data.review\n",
    "X.head()"
   ]
  },
  {
   "cell_type": "code",
   "execution_count": 6,
   "metadata": {},
   "outputs": [
    {
     "name": "stdout",
     "output_type": "stream",
     "text": [
      "[nltk_data] Downloading package stopwords to /usr/share/nltk_data...\n",
      "[nltk_data]   Package stopwords is already up-to-date!\n"
     ]
    }
   ],
   "source": [
    "import nltk\n",
    "from nltk.tokenize import word_tokenize\n",
    "nltk.download('stopwords')\n",
    "from nltk.corpus import stopwords\n",
    "stop_words = set(stopwords.words(\"english\"))"
   ]
  },
  {
   "cell_type": "code",
   "execution_count": 7,
   "metadata": {},
   "outputs": [
    {
     "data": {
      "text/plain": [
       "0    One reviewers mentioned watching 1 Oz episode ...\n",
       "1    A wonderful little production . < br / > < br ...\n",
       "2    I thought wonderful way spend time hot summer ...\n",
       "3    Basically 's family little boy ( Jake ) thinks...\n",
       "4    Petter Mattei 's `` Love Time Money '' visuall...\n",
       "Name: review, dtype: object"
      ]
     },
     "execution_count": 7,
     "metadata": {},
     "output_type": "execute_result"
    }
   ],
   "source": [
    "import re\n",
    "def preprocess(review):\n",
    "    #convert the tweet to lower case\n",
    "    review.lower()\n",
    "    #convert all urls to sting \"URL\"\n",
    "    review = re.sub('((www\\.[^\\s]+)|(https?://[^\\s]+))','URL',review)\n",
    "    #convert all @username to \"AT_USER\"\n",
    "    review = re.sub('@[^\\s]+','AT_USER', review)\n",
    "    #correct all multiple white spaces to a single white space\n",
    "    review = re.sub('[\\s]+', ' ', review)\n",
    "    #convert \"#topic\" to just \"topic\"\n",
    "    review = re.sub(r'#([^\\s]+)', r'\\1', review)\n",
    "    tokens = word_tokenize(review)\n",
    "    tokens = [w for w in tokens if not w in stop_words]\n",
    "    return \" \".join(tokens)\n",
    "\n",
    "X = X.apply(preprocess)\n",
    "X.head()"
   ]
  },
  {
   "cell_type": "code",
   "execution_count": 8,
   "metadata": {
    "_kg_hide-output": true
   },
   "outputs": [
    {
     "name": "stdout",
     "output_type": "stream",
     "text": [
      "  (0, 75175)\t0.07683783127650294\n",
      "  (0, 57308)\t0.06624866868047863\n",
      "  (0, 97762)\t0.06602816279570944\n",
      "  (0, 65154)\t0.25091002117171085\n",
      "  (0, 29979)\t0.09795330176273473\n",
      "  (0, 52987)\t0.09497914147180293\n",
      "  (0, 42657)\t0.08406289522607628\n",
      "  (0, 75579)\t0.07345438601129015\n",
      "  (0, 30834)\t0.05840115698708446\n",
      "  (0, 40269)\t0.058164466550608064\n",
      "  (0, 11951)\t0.0580768672598578\n",
      "  (0, 89993)\t0.039169060226213505\n",
      "  (0, 86227)\t0.14233085404173718\n",
      "  (0, 12884)\t0.0934397851970873\n",
      "  (0, 94168)\t0.11301369457806576\n",
      "  (0, 78409)\t0.038508427052991796\n",
      "  (0, 96683)\t0.14130718274380136\n",
      "  (0, 79965)\t0.04717873820228534\n",
      "  (0, 99600)\t0.10049092314544059\n",
      "  (0, 92537)\t0.07374935491777986\n",
      "  (0, 31776)\t0.0999580872999477\n",
      "  (0, 40989)\t0.07831507849669773\n",
      "  (0, 90563)\t0.10724962800570012\n",
      "  (0, 71260)\t0.08008437633828311\n",
      "  (0, 71307)\t0.09436601708316866\n",
      "  :\t:\n",
      "  (49999, 94206)\t0.1149017853264476\n",
      "  (49999, 51790)\t0.10313172784975949\n",
      "  (49999, 45842)\t0.20268706796083003\n",
      "  (49999, 31177)\t0.11845633689190246\n",
      "  (49999, 7096)\t0.12974833493124632\n",
      "  (49999, 40355)\t0.138578847412345\n",
      "  (49999, 61445)\t0.1289640695554134\n",
      "  (49999, 44717)\t0.12147314999440145\n",
      "  (49999, 44394)\t0.1846481985222798\n",
      "  (49999, 32012)\t0.1158258742932147\n",
      "  (49999, 5981)\t0.12097199311333438\n",
      "  (49999, 92028)\t0.17406101911002916\n",
      "  (49999, 49608)\t0.19999348850941687\n",
      "  (49999, 84428)\t0.21838395147037803\n",
      "  (49999, 56465)\t0.21582944501764095\n",
      "  (49999, 74379)\t0.16883237275641577\n",
      "  (49999, 29980)\t0.13454296773558627\n",
      "  (49999, 13777)\t0.15933045397344145\n",
      "  (49999, 15868)\t0.18954700462898053\n",
      "  (49999, 31189)\t0.19952996206279186\n",
      "  (49999, 37976)\t0.17128427712464322\n",
      "  (49999, 74372)\t0.1642152348654082\n",
      "  (49999, 60123)\t0.1931689765664742\n",
      "  (49999, 21180)\t0.21975251419663833\n",
      "  (49999, 100572)\t0.27766102853204233\n"
     ]
    }
   ],
   "source": [
    "from sklearn.feature_extraction.text import TfidfVectorizer\n",
    "def feature_extraction(data):\n",
    "    tfv=TfidfVectorizer(sublinear_tf=True, stop_words = \"english\")\n",
    "    features=tfv.fit_transform(data)\n",
    "    pickle.dump(tfv.vocabulary_, open(\"svm_feature.pkl\", \"wb\"))\n",
    "    return features\n",
    "\n",
    "data = np.array(X)\n",
    "label = np.array(y)\n",
    "features = feature_extraction(data)\n",
    "\n",
    "print(features)"
   ]
  },
  {
   "cell_type": "code",
   "execution_count": 9,
   "metadata": {},
   "outputs": [],
   "source": [
    "from sklearn.model_selection import train_test_split  \n",
    "X_train, X_test, y_train, y_test = train_test_split(features, label, test_size = 0.20) "
   ]
  },
  {
   "cell_type": "code",
   "execution_count": 10,
   "metadata": {},
   "outputs": [
    {
     "data": {
      "text/plain": [
       "SVC(C=1.0, cache_size=200, class_weight=None, coef0=0.0,\n",
       "  decision_function_shape='ovr', degree=3, gamma='auto_deprecated',\n",
       "  kernel='linear', max_iter=-1, probability=False, random_state=None,\n",
       "  shrinking=True, tol=0.001, verbose=False)"
      ]
     },
     "execution_count": 10,
     "metadata": {},
     "output_type": "execute_result"
    }
   ],
   "source": [
    "from sklearn.svm import SVC  \n",
    "svclassifier = SVC(kernel='linear')  \n",
    "\n",
    "svclassifier.fit(X_train, y_train)  "
   ]
  },
  {
   "cell_type": "code",
   "execution_count": 11,
   "metadata": {},
   "outputs": [
    {
     "name": "stdout",
     "output_type": "stream",
     "text": [
      "0.8966\n"
     ]
    }
   ],
   "source": [
    "from sklearn.metrics import accuracy_score\n",
    "val_pred = svclassifier.predict(X_test)\n",
    "#print(val_pred)\n",
    "print(accuracy_score(y_test, val_pred))"
   ]
  },
  {
   "cell_type": "code",
   "execution_count": 12,
   "metadata": {},
   "outputs": [],
   "source": [
    "filename = 'svm_model.sav'\n",
    "pickle.dump(svclassifier, open(filename, 'wb'))"
   ]
  },
  {
   "cell_type": "markdown",
   "metadata": {},
   "source": [
    "Saving the model"
   ]
  },
  {
   "cell_type": "code",
   "execution_count": 13,
   "metadata": {},
   "outputs": [
    {
     "name": "stdout",
     "output_type": "stream",
     "text": [
      "0.8966\n"
     ]
    }
   ],
   "source": [
    "loaded_model = pickle.load(open(filename, 'rb'))\n",
    "result = loaded_model.score(X_test, y_test)\n",
    "print(result)"
   ]
  },
  {
   "cell_type": "markdown",
   "metadata": {},
   "source": [
    "Loading the saved model and testing"
   ]
  },
  {
   "cell_type": "code",
   "execution_count": 14,
   "metadata": {},
   "outputs": [
    {
     "name": "stdout",
     "output_type": "stream",
     "text": [
      "really beautiful\n",
      "['really beautiful']\n",
      "  (0, 8827)\t0.7071067811865476\n",
      "  (0, 73032)\t0.7071067811865476\n",
      "[1]\n"
     ]
    }
   ],
   "source": [
    "text = 'you are really beautiful'\n",
    "text = preprocess(text)\n",
    "print(text)\n",
    "text = np.array([text])\n",
    "print(text)\n",
    "\n",
    "from sklearn.feature_extraction.text import TfidfTransformer\n",
    "transformer = TfidfTransformer()\n",
    "tfv_loaded = TfidfVectorizer(sublinear_tf=True, stop_words = \"english\", vocabulary=pickle.load(open(\"svm_feature.pkl\", \"rb\")))\n",
    "text = transformer.fit_transform(tfv_loaded.fit_transform(text))\n",
    "print(text)\n",
    "polarity = loaded_model.predict(text)\n",
    "print(polarity)"
   ]
  }
 ],
 "metadata": {
  "kernelspec": {
   "display_name": "Python 3",
   "language": "python",
   "name": "python3"
  },
  "language_info": {
   "codemirror_mode": {
    "name": "ipython",
    "version": 3
   },
   "file_extension": ".py",
   "mimetype": "text/x-python",
   "name": "python",
   "nbconvert_exporter": "python",
   "pygments_lexer": "ipython3",
   "version": "3.6.4"
  }
 },
 "nbformat": 4,
 "nbformat_minor": 1
}
