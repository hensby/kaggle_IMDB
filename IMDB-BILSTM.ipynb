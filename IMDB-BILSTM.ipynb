{
 "cells": [
  {
   "cell_type": "code",
   "execution_count": 57,
   "metadata": {},
   "outputs": [],
   "source": [
    "from keras.preprocessing.text import Tokenizer\n",
    "from keras.preprocessing.sequence import pad_sequences\n",
    "from keras.layers import Dense , Input , LSTM , Embedding, Dropout , Activation, GRU, Flatten\n",
    "from keras.layers import Bidirectional, GlobalMaxPool1D\n",
    "from keras.models import Model, Sequential\n",
    "from keras.layers import Convolution1D\n",
    "from keras import initializers, regularizers, constraints, optimizers, layers\n",
    "import pandas as pd\n",
    "import numpy as np"
   ]
  },
  {
   "cell_type": "code",
   "execution_count": 8,
   "metadata": {},
   "outputs": [],
   "source": [
    "# load train dataset and test dataset\n",
    "file = 'no_head_tain.csv'\n",
    "test = 'no_head_test.csv'\n",
    "df = pd.read_csv(file, names=['reviews', 'sentiment'])\n",
    "df_test = pd.read_csv(test, header = 0, names=['reviews', 'sentiment'])"
   ]
  },
  {
   "cell_type": "code",
   "execution_count": 41,
   "metadata": {},
   "outputs": [
    {
     "name": "stdout",
     "output_type": "stream",
     "text": [
      "Train on 20000 samples, validate on 5000 samples\n",
      "Epoch 1/10\n",
      "20000/20000 [==============================] - 31s 2ms/step - loss: 0.4524 - acc: 0.7755 - val_loss: 0.3977 - val_acc: 0.8308\n",
      "Epoch 2/10\n",
      "20000/20000 [==============================] - 28s 1ms/step - loss: 0.2309 - acc: 0.9126 - val_loss: 0.3322 - val_acc: 0.8656\n",
      "Epoch 3/10\n",
      "20000/20000 [==============================] - 28s 1ms/step - loss: 0.1675 - acc: 0.9397 - val_loss: 0.4563 - val_acc: 0.8306\n",
      "Epoch 4/10\n",
      "20000/20000 [==============================] - 29s 1ms/step - loss: 0.1237 - acc: 0.9582 - val_loss: 0.5899 - val_acc: 0.8272\n",
      "Epoch 5/10\n",
      "20000/20000 [==============================] - 27s 1ms/step - loss: 0.0870 - acc: 0.9730 - val_loss: 0.6997 - val_acc: 0.8050\n",
      "Epoch 6/10\n",
      "20000/20000 [==============================] - 26s 1ms/step - loss: 0.0594 - acc: 0.9827 - val_loss: 0.7737 - val_acc: 0.8104\n",
      "Epoch 7/10\n",
      "20000/20000 [==============================] - 27s 1ms/step - loss: 0.0442 - acc: 0.9874 - val_loss: 0.8872 - val_acc: 0.8104\n",
      "Epoch 8/10\n",
      "20000/20000 [==============================] - 27s 1ms/step - loss: 0.0324 - acc: 0.9918 - val_loss: 0.9366 - val_acc: 0.8202\n",
      "Epoch 9/10\n",
      "20000/20000 [==============================] - 26s 1ms/step - loss: 0.0325 - acc: 0.9905 - val_loss: 1.0618 - val_acc: 0.8132\n",
      "Epoch 10/10\n",
      "20000/20000 [==============================] - 27s 1ms/step - loss: 0.0261 - acc: 0.9927 - val_loss: 1.0963 - val_acc: 0.8070\n"
     ]
    }
   ],
   "source": [
    "# train model\n",
    "max_features = 6000\n",
    "tokenizer = Tokenizer(num_words=max_features)\n",
    "tokenizer.fit_on_texts(df['reviews'])\n",
    "list_tokenized_train = tokenizer.texts_to_sequences(df['reviews'])\n",
    "\n",
    "maxlen = 130\n",
    "X_t = pad_sequences(list_tokenized_train, maxlen=maxlen)\n",
    "y = df['sentiment']\n",
    "\n",
    "# define the structure\n",
    "embed_size = 128\n",
    "model = Sequential()\n",
    "model.add(Embedding(max_features, embed_size))\n",
    "model.add(Bidirectional(LSTM(32, return_sequences = True)))\n",
    "model.add(GlobalMaxPool1D())\n",
    "model.add(Dense(20, activation=\"relu\"))\n",
    "model.add(Dropout(0.05))\n",
    "model.add(Dense(1, activation=\"sigmoid\"))\n",
    "model.compile(loss='binary_crossentropy', optimizer='adam', metrics=['accuracy'])\n",
    "\n",
    "batch_size = 100\n",
    "epochs = 10\n",
    "history = model.fit(X_t,y, batch_size=batch_size, epochs=epochs, validation_split=0.2)\n",
    "\n"
   ]
  },
  {
   "cell_type": "code",
   "execution_count": 19,
   "metadata": {},
   "outputs": [
    {
     "name": "stdout",
     "output_type": "stream",
     "text": [
      "77.23\n",
      "F1-score: 0.7829734005371399\n",
      "Confusion matrix:\n"
     ]
    },
    {
     "data": {
      "text/plain": [
       "array([[ 8459,  1858],\n",
       "       [ 4041, 10641]], dtype=int64)"
      ]
     },
     "execution_count": 19,
     "metadata": {},
     "output_type": "execute_result"
    }
   ],
   "source": [
    "# test model\n",
    "from sklearn.metrics import f1_score, confusion_matrix\n",
    "from sklearn.metrics import roc_auc_score\n",
    "\n",
    "y_test = df_test[\"sentiment\"]\n",
    "list_sentences_test = df_test[\"reviews\"]\n",
    "list_tokenized_test = tokenizer.texts_to_sequences(list_sentences_test)\n",
    "X_te = pad_sequences(list_tokenized_test, maxlen=maxlen)\n",
    "prediction = model.predict(X_te)\n",
    "y_pred = (prediction > 0.5)\n",
    "\n",
    "pct_auc = roc_auc_score(y_pred, y_test) * 100\n",
    "print('{:0.2f}'.format(pct_auc))\n",
    "print('F1-score: {0}'.format(f1_score(y_pred, y_test)))\n",
    "print('Confusion matrix:')\n",
    "confusion_matrix(y_pred, y_test)"
   ]
  },
  {
   "cell_type": "code",
   "execution_count": 55,
   "metadata": {},
   "outputs": [
    {
     "name": "stdout",
     "output_type": "stream",
     "text": [
      "AUC :  0.764034053924314\n"
     ]
    },
    {
     "name": "stderr",
     "output_type": "stream",
     "text": [
      "F:\\Anaconda\\envs\\hope\\lib\\site-packages\\ipykernel_launcher.py:40: UserWarning: Matplotlib is currently using agg, which is a non-GUI backend, so cannot show the figure.\n"
     ]
    }
   ],
   "source": [
    "import sys\n",
    "import matplotlib as plt\n",
    "plt.use('Agg')\n",
    "import matplotlib.pyplot as plt\n",
    "from matplotlib import *\n",
    "from sklearn.metrics import roc_curve, auc\n",
    "# score = history.decision_function(X_te)\n",
    "                                 \n",
    "# fpr,tpr,threshold = roc_curve(y_test, score) ###计算真正率和假正率\n",
    "# roc_auc = auc(fpr,tpr) ###计算auc的值)\n",
    "\n",
    "# plt.figure()\n",
    "# lw = 2\n",
    "# plt.figure(figsize=(10,10))\n",
    "# plt.plot(fpr, tpr, color='darkorange',\n",
    "#          lw=lw, label='ROC curve (area = %0.2f)' % roc_auc) ###假正率为横坐标，真正率为纵坐标做曲线\n",
    "# plt.plot([0, 1], [0, 1], color='navy', lw=lw, linestyle='--')\n",
    "# plt.xlim([0.0, 1.0])\n",
    "# plt.ylim([0.0, 1.05])\n",
    "# plt.xlabel('False Positive Rate')\n",
    "# plt.ylabel('True Positive Rate')\n",
    "# plt.title('Receiver operating characteristic example')\n",
    "# plt.legend(loc=\"lower right\")\n",
    "# plt.show()\n",
    "\n",
    "# 二分类　ＲＯＣ曲线\n",
    "# roc_curve:真正率（True Positive Rate , TPR）或灵敏度（sensitivity）\n",
    "# 横坐标：假正率（False Positive Rate , FPR）\n",
    "fpr, tpr, thresholds_keras = roc_curve(y_test, y_pred)\n",
    "auc = auc(fpr, tpr)\n",
    "print(\"AUC : \", auc)\n",
    "# plt.figure()\n",
    "plt.plot([0, 1], [0, 1], 'k--')\n",
    "plt.plot(fpr, tpr, label='Keras (area = {:.3f})'.format(auc))\n",
    "plt.xlabel('False positive rate')\n",
    "plt.ylabel('True positive rate')\n",
    "plt.title('ROC curve')\n",
    "plt.legend(loc='best')\n",
    "# plt.savefig(\"../images/ROC/ROC_Binary.png\")\n",
    "plt.show()"
   ]
  },
  {
   "cell_type": "code",
   "execution_count": 40,
   "metadata": {
    "scrolled": true
   },
   "outputs": [],
   "source": [
    "import tkinter\n",
    "import matplotlib\n",
    "matplotlib.use('TkAgg')\n",
    "import matplotlib.pyplot as pyplot\n",
    "\n",
    "pyplot.plot(history.history[ 'loss' ])\n",
    "pyplot.plot(history.history[ 'val_loss' ])\n",
    "pyplot.title( 'model train vs validation loss' )\n",
    "pyplot.ylabel( 'loss' )\n",
    "pyplot.xlabel( 'epoch' )\n",
    "pyplot.legend([ 'train' , 'validation' ], loc= 'upper right' )\n",
    "pyplot.show()\n"
   ]
  },
  {
   "cell_type": "code",
   "execution_count": 58,
   "metadata": {},
   "outputs": [
    {
     "name": "stderr",
     "output_type": "stream",
     "text": [
      "F:\\Anaconda\\envs\\hope\\lib\\site-packages\\ipykernel_launcher.py:9: UserWarning: Matplotlib is currently using agg, which is a non-GUI backend, so cannot show the figure.\n",
      "  if __name__ == '__main__':\n"
     ]
    }
   ],
   "source": [
    "plt.imshow(confusion_matrix(y_pred, y_test),interpolation='nearest',cmap=plt.cm.Paired)\n",
    "plt.title('Confusion Matrix')\n",
    "plt.colorbar()\n",
    "tick_marks=np.arange(4)\n",
    "plt.xticks(tick_marks,tick_marks)\n",
    "plt.yticks(tick_marks,tick_marks)\n",
    "plt.ylabel('True Label')\n",
    "plt.xlabel('Predicted Label')\n",
    "plt.show()\n"
   ]
  },
  {
   "cell_type": "code",
   "execution_count": null,
   "metadata": {},
   "outputs": [],
   "source": []
  },
  {
   "cell_type": "code",
   "execution_count": null,
   "metadata": {},
   "outputs": [],
   "source": []
  }
 ],
 "metadata": {
  "kernelspec": {
   "display_name": "Python 3",
   "language": "python",
   "name": "python3"
  },
  "language_info": {
   "codemirror_mode": {
    "name": "ipython",
    "version": 3
   },
   "file_extension": ".py",
   "mimetype": "text/x-python",
   "name": "python",
   "nbconvert_exporter": "python",
   "pygments_lexer": "ipython3",
   "version": "3.6.10"
  }
 },
 "nbformat": 4,
 "nbformat_minor": 2
}
